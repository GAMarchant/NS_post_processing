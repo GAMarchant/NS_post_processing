{
 "cells": [
  {
   "cell_type": "code",
   "execution_count": 1,
   "id": "79af5162",
   "metadata": {},
   "outputs": [],
   "source": [
    "import numpy as np\n",
    "import matplotlib.pyplot as plt\n",
    "from scipy import interpolate"
   ]
  },
  {
   "cell_type": "code",
   "execution_count": 2,
   "id": "ea9a9382",
   "metadata": {},
   "outputs": [],
   "source": [
    "T, U = np.loadtxt(str('analyse.dat'), comments='#', usecols=(0, 3), unpack=True)\n"
   ]
  },
  {
   "cell_type": "code",
   "execution_count": 3,
   "id": "71d7ad5e",
   "metadata": {},
   "outputs": [
    {
     "name": "stdout",
     "output_type": "stream",
     "text": [
      "[  100.   110.   120. ... 20070. 20080. 20090.]\n"
     ]
    }
   ],
   "source": [
    "print(T)"
   ]
  },
  {
   "cell_type": "code",
   "execution_count": 4,
   "id": "22e4ac67",
   "metadata": {},
   "outputs": [
    {
     "name": "stdout",
     "output_type": "stream",
     "text": [
      "[-450.107  -449.932  -449.748  ...   42.6945   42.9007   43.1068]\n"
     ]
    }
   ],
   "source": [
    "print(U)"
   ]
  },
  {
   "cell_type": "code",
   "execution_count": 5,
   "id": "9f3bbb59",
   "metadata": {},
   "outputs": [],
   "source": [
    "tck=interpolate.splrep(T,U,s=0)"
   ]
  },
  {
   "cell_type": "code",
   "execution_count": 6,
   "id": "9a893ca1",
   "metadata": {},
   "outputs": [],
   "source": [
    "Unew = interpolate.splev(T,tck,der=1)"
   ]
  },
  {
   "cell_type": "code",
   "execution_count": 7,
   "id": "36e9864f",
   "metadata": {},
   "outputs": [
    {
     "name": "stdout",
     "output_type": "stream",
     "text": [
      "(array([  100.,   100.,   100., ..., 20090., 20090., 20090.]), array([-450.107     , -449.99477809, -449.81094381, ...,    0.        ,\n",
      "          0.        ,    0.        ]), 3)\n"
     ]
    }
   ],
   "source": [
    "print(tck)"
   ]
  },
  {
   "cell_type": "code",
   "execution_count": 8,
   "id": "7569f586",
   "metadata": {
    "scrolled": true
   },
   "outputs": [
    {
     "data": {
      "text/plain": [
       "[<matplotlib.lines.Line2D at 0x7f36a8f22ee0>]"
      ]
     },
     "execution_count": 8,
     "metadata": {},
     "output_type": "execute_result"
    },
    {
     "data": {
      "image/png": "[encoded data removed]",
      "text/plain": [
       "<Figure size 432x288 with 1 Axes>"
      ]
     },
     "metadata": {
      "needs_background": "light"
     },
     "output_type": "display_data"
    }
   ],
   "source": [
    "plt.figure()\n",
    "plt.plot(T,Unew)"
   ]
  },
  {
   "cell_type": "code",
   "execution_count": 9,
   "id": "b8bed6ac",
   "metadata": {},
   "outputs": [
    {
     "name": "stdout",
     "output_type": "stream",
     "text": [
      "[0.01683329 0.01805836 0.01863329 ... 0.02062606 0.02061447 0.02060606]\n"
     ]
    }
   ],
   "source": [
    "print(Unew)"
   ]
  },
  {
   "cell_type": "code",
   "execution_count": 10,
   "id": "806b3880",
   "metadata": {},
   "outputs": [
    {
     "data": {
      "text/plain": [
       "[<matplotlib.lines.Line2D at 0x7f36a83f9610>]"
      ]
     },
     "execution_count": 10,
     "metadata": {},
     "output_type": "execute_result"
    },
    {
     "data": {
      "image/png": "[encoded data removed]",
      "text/plain": [
       "<Figure size 432x288 with 1 Axes>"
      ]
     },
     "metadata": {
      "needs_background": "light"
     },
     "output_type": "display_data"
    }
   ],
   "source": [
    "plt.figure()\n",
    "plt.plot(T,U)\n"
   ]
  },
  {
   "cell_type": "code",
   "execution_count": 11,
   "id": "312895c1",
   "metadata": {},
   "outputs": [
    {
     "name": "stdout",
     "output_type": "stream",
     "text": [
      "[-450.107  -449.932  -449.748  ...   42.6945   42.9007   43.1068]\n"
     ]
    }
   ],
   "source": [
    "print(U)"
   ]
  },
  {
   "cell_type": "code",
   "execution_count": 12,
   "id": "007c632b",
   "metadata": {},
   "outputs": [
    {
     "name": "stdout",
     "output_type": "stream",
     "text": [
      "-380.3970754352034 26.293087136695007 -406.69016257189844\n"
     ]
    }
   ],
   "source": [
    "E = np.loadtxt(str('Carbon_tersoff.ener_temp'))\n",
    "KE = np.loadtxt(str('Carbon_tersoff.ke_temp'))\n",
    "U2 = []\n",
    "for x in range(len(E)):\n",
    "    U2.append(E[x] - KE[x])\n",
    "\n",
    "print(E[200], KE[200],U2[200])"
   ]
  },
  {
   "cell_type": "code",
   "execution_count": 13,
   "id": "baa16d1e",
   "metadata": {},
   "outputs": [
    {
     "name": "stdout",
     "output_type": "stream",
     "text": [
      "364 2000\n",
      "2000\n"
     ]
    }
   ],
   "source": [
    "print(len(U2), len(T))\n",
    "print(len(U))\n"
   ]
  },
  {
   "cell_type": "code",
   "execution_count": 14,
   "id": "dfbd1e6a",
   "metadata": {},
   "outputs": [
    {
     "name": "stdout",
     "output_type": "stream",
     "text": [
      "max\n",
      "43.1068 42.915252491139825\n",
      "min\n",
      "-450.107 -450.0576305662066\n",
      "2000 185\n",
      "[  42.91525249   23.52033261   26.71934145   31.30580625   23.72157611\n",
      "  -18.39111936    1.90931513   -4.63039609   -3.49719232  -22.90359967\n",
      "  -41.14250934  -10.22401253  -42.32418113  -49.39972634  -78.90508982\n",
      "  -85.82257205 -103.7850974   -67.37282325  -98.63053818  -95.30114092\n",
      " -106.15898853 -118.22268387 -139.30857822 -151.8084874  -126.18600319\n",
      " -162.52366177 -163.20941842 -144.72386263 -167.3294835  -173.71679614\n",
      " -150.88536634 -164.90873039 -181.14582092 -181.72868075 -176.76810758\n",
      " -198.89724876 -191.36783207 -206.90432386 -201.72445118 -206.56686492\n",
      " -201.22163048 -199.86883205 -223.21354868 -216.52625659 -231.09778012\n",
      " -244.523781   -239.45414062 -242.20164667 -240.64795935 -231.24930856\n",
      " -243.01755161 -239.50228124 -263.39129519 -267.14511198 -267.6239016\n",
      " -273.25620384 -268.21292256 -264.06789438 -285.21345643 -275.36696156\n",
      " -283.90181651 -283.26234469 -290.25648796 -278.15547097 -277.76031995\n",
      " -292.49276851 -290.59750624 -287.55233402 -297.71633258 -287.0986248\n",
      " -291.05483754 -309.1829338  -301.99633134 -308.89084401 -315.9009121\n",
      " -326.82451647 -323.24108694 -314.60575446 -335.77321266 -320.24695517\n",
      " -335.92240532 -334.13587297 -337.2279927  -341.54099504 -340.87561525\n",
      " -340.61400562 -347.68751857 -353.71372264 -362.49207858 -357.05612499\n",
      " -365.22191594 -366.64995732 -372.08944538 -364.85573937 -374.21033693\n",
      " -368.90760355 -372.02384718 -376.37661808 -375.72882916 -373.05973628\n",
      " -381.25954846 -380.96228062 -387.61559067 -387.63711115 -388.42769971\n",
      " -389.5800831  -391.30766762 -397.12446165 -399.51753233 -398.40571712\n",
      " -396.71434397 -402.43012015 -403.71787821 -404.64631574 -404.33344328\n",
      " -403.47713055 -406.69016257 -412.57127436 -412.7036314  -415.39021558\n",
      " -417.01215494 -420.86941701 -420.73836215 -422.43911002 -425.26175259\n",
      " -423.8792272  -425.87746705 -427.58512602 -429.81738348 -429.37515013\n",
      " -432.70983838 -433.87538324 -434.19776592 -435.65159464 -434.61505221\n",
      " -436.76103988 -436.51933865 -438.26633986 -437.74892301 -437.69093363\n",
      " -440.20407305 -440.45079723 -439.3991704  -440.42214252 -438.76604697\n",
      " -440.87958583 -441.82474815 -442.27027722 -442.13246796 -443.80421702\n",
      " -442.89774398 -442.9894475  -444.96859613 -445.86038674 -446.46709212\n",
      " -446.31010186 -446.63493893 -446.44762315 -447.33863125 -447.22423399\n",
      " -447.48916636 -447.8069549  -447.5506145  -448.06584732 -448.34080139\n",
      " -448.59795778 -448.56946835 -448.72475124 -448.65013162 -448.85998308\n",
      " -448.98373796 -448.74697148 -448.99581481 -449.13553933 -449.24055921\n",
      " -449.22609874 -449.33953773 -449.56424142 -449.48359189 -449.91208526\n",
      " -449.59153393 -449.64454239 -449.88337766 -450.03544438 -450.05763057]\n",
      "[  42.91525249   23.52033261   26.71934145   31.30580625   23.72157611\n",
      "  -18.39111936    1.90931513   -4.63039609   -3.49719232  -22.90359967\n",
      "  -41.14250934  -10.22401253  -42.32418113  -49.39972634  -78.90508982\n",
      "  -85.82257205 -103.7850974   -67.37282325  -98.63053818  -95.30114092\n",
      " -106.15898853 -118.22268387 -139.30857822 -151.8084874  -126.18600319\n",
      " -162.52366177 -163.20941842 -144.72386263 -167.3294835  -173.71679614\n",
      " -150.88536634 -164.90873039 -181.14582092 -181.72868075 -176.76810758\n",
      " -198.89724876 -191.36783207 -206.90432386 -201.72445118 -206.56686492\n",
      " -201.22163048 -199.86883205 -223.21354868 -216.52625659 -231.09778012\n",
      " -244.523781   -239.45414062 -242.20164667 -240.64795935 -231.24930856\n",
      " -243.01755161 -239.50228124 -263.39129519 -267.14511198 -267.6239016\n",
      " -273.25620384 -268.21292256 -264.06789438 -285.21345643 -275.36696156\n",
      " -283.90181651 -283.26234469 -290.25648796 -278.15547097 -277.76031995\n",
      " -292.49276851 -290.59750624 -287.55233402 -297.71633258 -287.0986248\n",
      " -291.05483754 -309.1829338  -301.99633134 -308.89084401 -315.9009121\n",
      " -326.82451647 -323.24108694 -314.60575446 -335.77321266 -320.24695517\n",
      " -335.92240532 -334.13587297 -337.2279927  -341.54099504 -340.87561525\n",
      " -340.61400562 -347.68751857 -353.71372264 -362.49207858 -357.05612499\n",
      " -365.22191594 -366.64995732 -372.08944538 -364.85573937 -374.21033693\n",
      " -368.90760355 -372.02384718 -376.37661808 -375.72882916 -373.05973628\n",
      " -381.25954846 -380.96228062 -387.61559067 -387.63711115 -388.42769971\n",
      " -389.5800831  -391.30766762 -397.12446165 -399.51753233 -398.40571712\n",
      " -396.71434397 -402.43012015 -403.71787821 -404.64631574 -404.33344328\n",
      " -403.47713055 -406.69016257 -412.57127436 -412.7036314  -415.39021558\n",
      " -417.01215494 -420.86941701 -420.73836215 -422.43911002 -425.26175259\n",
      " -423.8792272  -425.87746705 -427.58512602 -429.81738348 -429.37515013\n",
      " -432.70983838 -433.87538324 -434.19776592 -435.65159464 -434.61505221\n",
      " -436.76103988 -436.51933865 -438.26633986 -437.74892301 -437.69093363\n",
      " -440.20407305 -440.45079723 -439.3991704  -440.42214252 -438.76604697\n",
      " -440.87958583 -441.82474815 -442.27027722 -442.13246796 -443.80421702\n",
      " -442.89774398 -442.9894475  -444.96859613 -445.86038674 -446.46709212\n",
      " -446.31010186 -446.63493893 -446.44762315 -447.33863125 -447.22423399\n",
      " -447.48916636 -447.8069549  -447.5506145  -448.06584732 -448.34080139\n",
      " -448.59795778 -448.56946835 -448.72475124 -448.65013162 -448.85998308\n",
      " -448.98373796 -448.74697148 -448.99581481 -449.13553933 -449.24055921\n",
      " -449.22609874 -449.33953773 -449.56424142 -449.48359189 -449.91208526\n",
      " -449.59153393 -449.64454239 -449.88337766 -450.03544438 -450.05763057]\n",
      "185\n",
      "del\n",
      "-450.107 -450.0576305662066\n"
     ]
    }
   ],
   "source": [
    "highestU=np.amax(U)\n",
    "lowestU=np.amin(U)\n",
    "#for x in range(len(U2)):\n",
    "#    if U2[x] > highestU :\n",
    "#        U2.pop(x)\n",
    "#        print(x)\n",
    "\n",
    "U2 = np.delete(U2, np.argwhere(U2 > highestU))\n",
    "U2 = np.delete(U2, np.argwhere(U2 < lowestU))\n",
    "\n",
    "print('max')\n",
    "print(np.amax(U), np.amax(U2))\n",
    "print('min')\n",
    "print(np.amin(U), np.amin(U2))\n",
    "\n",
    "print(len(U), len(U2))\n",
    "print(U2)\n",
    "#for x in range(10):\n",
    "#    U2 = np.delete(U2, len(U2)-1)\n",
    "print(U2)\n",
    "print(len(U2))\n",
    "print('del')\n",
    "print(np.amin(U), np.amin(U2))\n",
    "\n"
   ]
  },
  {
   "cell_type": "code",
   "execution_count": 15,
   "id": "c2400d2e",
   "metadata": {},
   "outputs": [
    {
     "name": "stdout",
     "output_type": "stream",
     "text": [
      "(185,) (2000,)\n",
      "U:-450.107  43.1068\n",
      "U2:-450.0576305662066  42.915252491139825\n",
      "[  100.   110.   120. ... 20070. 20080. 20090.]\n"
     ]
    }
   ],
   "source": [
    "\n",
    "print(np.shape(U2), np.shape(U))\n",
    "print('U:'+ str(np.amin(U)) + '  ' +str(np.amax(U)))\n",
    "print('U2:' + str(np.amin(U2)) + '  '+ str(np.amax(U2)))\n",
    "print(T)"
   ]
  },
  {
   "cell_type": "code",
   "execution_count": 16,
   "id": "5ee668c4",
   "metadata": {},
   "outputs": [
    {
     "name": "stdout",
     "output_type": "stream",
     "text": [
      "[-450.107  -449.932  -449.748  ...   42.6945   42.9007   43.1068]\n"
     ]
    }
   ],
   "source": [
    "print(U)"
   ]
  },
  {
   "cell_type": "code",
   "execution_count": 17,
   "id": "6b15b47d",
   "metadata": {},
   "outputs": [
    {
     "data": {
      "text/plain": [
       "[<matplotlib.lines.Line2D at 0x7f36a83e9df0>,\n",
       " <matplotlib.lines.Line2D at 0x7f36a83e9ee0>]"
      ]
     },
     "execution_count": 17,
     "metadata": {},
     "output_type": "execute_result"
    },
    {
     "data": {
      "image/png": "[encoded data removed]",
      "text/plain": [
       "<Figure size 432x288 with 1 Axes>"
      ]
     },
     "metadata": {
      "needs_background": "light"
     },
     "output_type": "display_data"
    }
   ],
   "source": [
    "f = interpolate.interp1d(U,T)\n",
    "plt.figure()\n",
    "plt.plot(T,U,'o', f(U2), U2 ,'o')"
   ]
  },
  {
   "cell_type": "code",
   "execution_count": 21,
   "id": "e8f5ecd4",
   "metadata": {},
   "outputs": [
    {
     "name": "stdout",
     "output_type": "stream",
     "text": [
      "20080.706088847153\n",
      "19146.74988525636\n",
      "19300.376449768588\n",
      "19520.6829930193\n",
      "19156.415759206422\n",
      "17133.05097364753\n",
      "18105.521136362542\n",
      "17790.00115162781\n",
      "17844.60199951321\n",
      "16921.186931235654\n",
      "16081.653296547476\n",
      "17521.339754479086\n",
      "16027.684736037354\n",
      "15703.586644970595\n",
      "14310.9533197132\n",
      "13984.183548850548\n",
      "13178.879940084149\n",
      "14862.071307788665\n",
      "13402.8623764543\n",
      "13550.481175515572\n",
      "13077.362190137894\n",
      "12571.3409181935\n",
      "11702.066466505412\n",
      "11192.4598617976\n",
      "12241.611438450918\n",
      "10756.761716832532\n",
      "10728.970914028672\n",
      "11481.021844249162\n",
      "10562.72243947108\n",
      "10307.627137408686\n",
      "11230.025863478415\n",
      "10660.253830336009\n",
      "10014.830552171918\n",
      "9991.973303752591\n",
      "10186.924898346637\n",
      "9315.150049639933\n",
      "9613.825508995142\n",
      "8996.232258441658\n",
      "9202.261952701245\n",
      "9009.570556473487\n",
      "9222.365319457938\n",
      "9276.381193225227\n",
      "8386.952511380741\n",
      "8627.407505747033\n",
      "8114.25410558247\n",
      "7654.273685951787\n",
      "7827.837649931705\n",
      "7733.676483761838\n",
      "7786.919200446627\n",
      "8109.064775355324\n",
      "7705.734533756905\n",
      "7826.18899857698\n",
      "7016.430671621538\n",
      "6889.455676234808\n",
      "6873.302976578906\n",
      "6684.893912613901\n",
      "6853.436950951704\n",
      "6993.517081595971\n",
      "6287.834251434328\n",
      "6615.116780080264\n",
      "6332.363080593388\n",
      "6353.894118344648\n",
      "6111.482572921845\n",
      "6523.284786334314\n",
      "6536.305264778344\n",
      "6030.772054049027\n",
      "6099.262365368153\n",
      "6207.096375531494\n",
      "5840.024358316852\n",
      "6222.8949721727795\n",
      "6082.811599128477\n",
      "5436.877298528057\n",
      "5686.560729880992\n",
      "5446.995016869037\n",
      "5196.434494581429\n",
      "4787.953150468815\n",
      "4918.76541270518\n",
      "5244.221448264498\n",
      "4477.255696039536\n",
      "5032.024611885814\n",
      "4472.020866006448\n",
      "4534.3446884891455\n",
      "4425.78597503116\n",
      "4268.7455705765005\n",
      "4293.261430008858\n",
      "4302.904205013759\n",
      "4050.1469321948157\n",
      "3885.772729146378\n",
      "3746.1048247991516\n",
      "3822.3676472236643\n",
      "3714.781623444227\n",
      "3699.3807004100904\n",
      "3643.44125378608\n",
      "3718.7967173796787\n",
      "3621.460910823043\n",
      "3675.9057013812694\n",
      "3644.1119920674887\n",
      "3598.049235029248\n",
      "3605.1765375568916\n",
      "3633.4531375635524\n",
      "3537.5921648749527\n",
      "3541.756062511898\n",
      "3416.3353874177837\n",
      "3415.7537528301814\n",
      "3393.2827466264334\n",
      "3355.721445309359\n",
      "3287.558437741893\n",
      "2988.948018794359\n",
      "2859.268522823796\n",
      "2919.4206962932817\n",
      "3011.2246503495535\n",
      "2702.8277992872604\n",
      "2634.3149890341306\n",
      "2585.115569238559\n",
      "2601.6696676029865\n",
      "2647.120715200663\n",
      "2477.028435349289\n",
      "2163.3013496176327\n",
      "2156.335189385245\n",
      "2015.3076816657983\n",
      "1927.2842572741836\n",
      "1709.6922155561858\n",
      "1717.0981835726632\n",
      "1621.0612348319096\n",
      "1465.959319349183\n",
      "1541.1351254534486\n",
      "1432.6774566124889\n",
      "1339.8838238895216\n",
      "1217.082869881123\n",
      "1241.3176723278507\n",
      "1060.7824097920834\n",
      "995.2054976364993\n",
      "976.8314820479195\n",
      "896.7939345798342\n",
      "953.1993139270406\n",
      "838.6149000693164\n",
      "851.343526257389\n",
      "754.6858907253538\n",
      "784.5498288939204\n",
      "787.8446802027707\n",
      "640.0512127616739\n",
      "627.0207613190656\n",
      "686.7969639078135\n",
      "628.4978084394309\n",
      "725.0870076244983\n",
      "605.2942370723976\n",
      "557.1257672543873\n",
      "532.7219428414429\n",
      "540.4138484800116\n",
      "447.2957683737488\n",
      "497.0930349140386\n",
      "491.94115193904366\n",
      "381.94526778462597\n",
      "333.82490452231707\n",
      "300.59281973661825\n",
      "309.12489903625834\n",
      "291.3769817869983\n",
      "301.6509158000409\n",
      "252.57438846547055\n",
      "258.7916310120325\n",
      "244.3315189548879\n",
      "226.72472775586456\n",
      "240.95524742305224\n",
      "212.34181567166215\n",
      "196.9256348923281\n",
      "182.40459314274614\n",
      "183.99618135295577\n",
      "175.59204018089227\n",
      "179.51938866511108\n",
      "168.45834664505304\n",
      "161.87564035702775\n",
      "174.4225539471026\n",
      "161.2332546285922\n",
      "153.52559295688718\n",
      "147.70391112612597\n",
      "148.50283192029974\n",
      "142.23548444136452\n",
      "129.87949369655183\n",
      "134.30813811174212\n",
      "111.08232270703947\n",
      "128.41215441388104\n",
      "125.56223691162532\n",
      "112.64251871168969\n",
      "104.08889273576577\n",
      "102.82111050247991\n",
      "[  42.91525249   23.52033261   26.71934145   31.30580625   23.72157611\n",
      "  -18.39111936    1.90931513   -4.63039609   -3.49719232  -22.90359967\n",
      "  -41.14250934  -10.22401253  -42.32418113  -49.39972634  -78.90508982\n",
      "  -85.82257205 -103.7850974   -67.37282325  -98.63053818  -95.30114092\n",
      " -106.15898853 -118.22268387 -139.30857822 -151.8084874  -126.18600319\n",
      " -162.52366177 -163.20941842 -144.72386263 -167.3294835  -173.71679614\n",
      " -150.88536634 -164.90873039 -181.14582092 -181.72868075 -176.76810758\n",
      " -198.89724876 -191.36783207 -206.90432386 -201.72445118 -206.56686492\n",
      " -201.22163048 -199.86883205 -223.21354868 -216.52625659 -231.09778012\n",
      " -244.523781   -239.45414062 -242.20164667 -240.64795935 -231.24930856\n",
      " -243.01755161 -239.50228124 -263.39129519 -267.14511198 -267.6239016\n",
      " -273.25620384 -268.21292256 -264.06789438 -285.21345643 -275.36696156\n",
      " -283.90181651 -283.26234469 -290.25648796 -278.15547097 -277.76031995\n",
      " -292.49276851 -290.59750624 -287.55233402 -297.71633258 -287.0986248\n",
      " -291.05483754 -309.1829338  -301.99633134 -308.89084401 -315.9009121\n",
      " -326.82451647 -323.24108694 -314.60575446 -335.77321266 -320.24695517\n",
      " -335.92240532 -334.13587297 -337.2279927  -341.54099504 -340.87561525\n",
      " -340.61400562 -347.68751857 -353.71372264 -362.49207858 -357.05612499\n",
      " -365.22191594 -366.64995732 -372.08944538 -364.85573937 -374.21033693\n",
      " -368.90760355 -372.02384718 -376.37661808 -375.72882916 -373.05973628\n",
      " -381.25954846 -380.96228062 -387.61559067 -387.63711115 -388.42769971\n",
      " -389.5800831  -391.30766762 -397.12446165 -399.51753233 -398.40571712\n",
      " -396.71434397 -402.43012015 -403.71787821 -404.64631574 -404.33344328\n",
      " -403.47713055 -406.69016257 -412.57127436 -412.7036314  -415.39021558\n",
      " -417.01215494 -420.86941701 -420.73836215 -422.43911002 -425.26175259\n",
      " -423.8792272  -425.87746705 -427.58512602 -429.81738348 -429.37515013\n",
      " -432.70983838 -433.87538324 -434.19776592 -435.65159464 -434.61505221\n",
      " -436.76103988 -436.51933865 -438.26633986 -437.74892301 -437.69093363\n",
      " -440.20407305 -440.45079723 -439.3991704  -440.42214252 -438.76604697\n",
      " -440.87958583 -441.82474815 -442.27027722 -442.13246796 -443.80421702\n",
      " -442.89774398 -442.9894475  -444.96859613 -445.86038674 -446.46709212\n",
      " -446.31010186 -446.63493893 -446.44762315 -447.33863125 -447.22423399\n",
      " -447.48916636 -447.8069549  -447.5506145  -448.06584732 -448.34080139\n",
      " -448.59795778 -448.56946835 -448.72475124 -448.65013162 -448.85998308\n",
      " -448.98373796 -448.74697148 -448.99581481 -449.13553933 -449.24055921\n",
      " -449.22609874 -449.33953773 -449.56424142 -449.48359189 -449.91208526\n",
      " -449.59153393 -449.64454239 -449.88337766 -450.03544438 -450.05763057]\n"
     ]
    }
   ],
   "source": [
    "for x in range(len(U2)):\n",
    "    print(f(U2[x]))\n",
    "print(U2)"
   ]
  },
  {
   "cell_type": "code",
   "execution_count": 18,
   "id": "a91eb4d1",
   "metadata": {},
   "outputs": [
    {
     "ename": "ValueError",
     "evalue": "A value in x_new is above the interpolation range.",
     "output_type": "error",
     "traceback": [
      "\u001b[0;31m---------------------------------------------------------------------------\u001b[0m",
      "\u001b[0;31mValueError\u001b[0m                                Traceback (most recent call last)",
      "\u001b[0;32m/tmp/ipykernel_267863/3062660257.py\u001b[0m in \u001b[0;36m<module>\u001b[0;34m\u001b[0m\n\u001b[0;32m----> 1\u001b[0;31m \u001b[0mprint\u001b[0m\u001b[0;34m(\u001b[0m\u001b[0mf\u001b[0m\u001b[0;34m(\u001b[0m\u001b[0mT\u001b[0m\u001b[0;34m)\u001b[0m\u001b[0;34m)\u001b[0m\u001b[0;34m\u001b[0m\u001b[0;34m\u001b[0m\u001b[0m\n\u001b[0m",
      "\u001b[0;32m~/software/miniconda3/lib/python3.8/site-packages/scipy/interpolate/polyint.py\u001b[0m in \u001b[0;36m__call__\u001b[0;34m(self, x)\u001b[0m\n\u001b[1;32m     76\u001b[0m         \"\"\"\n\u001b[1;32m     77\u001b[0m         \u001b[0mx\u001b[0m\u001b[0;34m,\u001b[0m \u001b[0mx_shape\u001b[0m \u001b[0;34m=\u001b[0m \u001b[0mself\u001b[0m\u001b[0;34m.\u001b[0m\u001b[0m_prepare_x\u001b[0m\u001b[0;34m(\u001b[0m\u001b[0mx\u001b[0m\u001b[0;34m)\u001b[0m\u001b[0;34m\u001b[0m\u001b[0;34m\u001b[0m\u001b[0m\n\u001b[0;32m---> 78\u001b[0;31m         \u001b[0my\u001b[0m \u001b[0;34m=\u001b[0m \u001b[0mself\u001b[0m\u001b[0;34m.\u001b[0m\u001b[0m_evaluate\u001b[0m\u001b[0;34m(\u001b[0m\u001b[0mx\u001b[0m\u001b[0;34m)\u001b[0m\u001b[0;34m\u001b[0m\u001b[0;34m\u001b[0m\u001b[0m\n\u001b[0m\u001b[1;32m     79\u001b[0m         \u001b[0;32mreturn\u001b[0m \u001b[0mself\u001b[0m\u001b[0;34m.\u001b[0m\u001b[0m_finish_y\u001b[0m\u001b[0;34m(\u001b[0m\u001b[0my\u001b[0m\u001b[0;34m,\u001b[0m \u001b[0mx_shape\u001b[0m\u001b[0;34m)\u001b[0m\u001b[0;34m\u001b[0m\u001b[0;34m\u001b[0m\u001b[0m\n\u001b[1;32m     80\u001b[0m \u001b[0;34m\u001b[0m\u001b[0m\n",
      "\u001b[0;32m~/software/miniconda3/lib/python3.8/site-packages/scipy/interpolate/interpolate.py\u001b[0m in \u001b[0;36m_evaluate\u001b[0;34m(self, x_new)\u001b[0m\n\u001b[1;32m    675\u001b[0m         \u001b[0my_new\u001b[0m \u001b[0;34m=\u001b[0m \u001b[0mself\u001b[0m\u001b[0;34m.\u001b[0m\u001b[0m_call\u001b[0m\u001b[0;34m(\u001b[0m\u001b[0mself\u001b[0m\u001b[0;34m,\u001b[0m \u001b[0mx_new\u001b[0m\u001b[0;34m)\u001b[0m\u001b[0;34m\u001b[0m\u001b[0;34m\u001b[0m\u001b[0m\n\u001b[1;32m    676\u001b[0m         \u001b[0;32mif\u001b[0m \u001b[0;32mnot\u001b[0m \u001b[0mself\u001b[0m\u001b[0;34m.\u001b[0m\u001b[0m_extrapolate\u001b[0m\u001b[0;34m:\u001b[0m\u001b[0;34m\u001b[0m\u001b[0;34m\u001b[0m\u001b[0m\n\u001b[0;32m--> 677\u001b[0;31m             \u001b[0mbelow_bounds\u001b[0m\u001b[0;34m,\u001b[0m \u001b[0mabove_bounds\u001b[0m \u001b[0;34m=\u001b[0m \u001b[0mself\u001b[0m\u001b[0;34m.\u001b[0m\u001b[0m_check_bounds\u001b[0m\u001b[0;34m(\u001b[0m\u001b[0mx_new\u001b[0m\u001b[0;34m)\u001b[0m\u001b[0;34m\u001b[0m\u001b[0;34m\u001b[0m\u001b[0m\n\u001b[0m\u001b[1;32m    678\u001b[0m             \u001b[0;32mif\u001b[0m \u001b[0mlen\u001b[0m\u001b[0;34m(\u001b[0m\u001b[0my_new\u001b[0m\u001b[0;34m)\u001b[0m \u001b[0;34m>\u001b[0m \u001b[0;36m0\u001b[0m\u001b[0;34m:\u001b[0m\u001b[0;34m\u001b[0m\u001b[0;34m\u001b[0m\u001b[0m\n\u001b[1;32m    679\u001b[0m                 \u001b[0;31m# Note fill_value must be broadcast up to the proper size\u001b[0m\u001b[0;34m\u001b[0m\u001b[0;34m\u001b[0m\u001b[0;34m\u001b[0m\u001b[0m\n",
      "\u001b[0;32m~/software/miniconda3/lib/python3.8/site-packages/scipy/interpolate/interpolate.py\u001b[0m in \u001b[0;36m_check_bounds\u001b[0;34m(self, x_new)\u001b[0m\n\u001b[1;32m    707\u001b[0m                              \"range.\")\n\u001b[1;32m    708\u001b[0m         \u001b[0;32mif\u001b[0m \u001b[0mself\u001b[0m\u001b[0;34m.\u001b[0m\u001b[0mbounds_error\u001b[0m \u001b[0;32mand\u001b[0m \u001b[0mabove_bounds\u001b[0m\u001b[0;34m.\u001b[0m\u001b[0many\u001b[0m\u001b[0;34m(\u001b[0m\u001b[0;34m)\u001b[0m\u001b[0;34m:\u001b[0m\u001b[0;34m\u001b[0m\u001b[0;34m\u001b[0m\u001b[0m\n\u001b[0;32m--> 709\u001b[0;31m             raise ValueError(\"A value in x_new is above the interpolation \"\n\u001b[0m\u001b[1;32m    710\u001b[0m                              \"range.\")\n\u001b[1;32m    711\u001b[0m \u001b[0;34m\u001b[0m\u001b[0m\n",
      "\u001b[0;31mValueError\u001b[0m: A value in x_new is above the interpolation range."
     ]
    }
   ],
   "source": [
    "print(f(T))"
   ]
  },
  {
   "cell_type": "code",
   "execution_count": null,
   "id": "9c0d97cd",
   "metadata": {},
   "outputs": [],
   "source": []
  }
 ],
 "metadata": {
  "kernelspec": {
   "display_name": "Python 3 (ipykernel)",
   "language": "python",
   "name": "python3"
  },
  "language_info": {
   "codemirror_mode": {
    "name": "ipython",
    "version": 3
   },
   "file_extension": ".py",
   "mimetype": "text/x-python",
   "name": "python",
   "nbconvert_exporter": "python",
   "pygments_lexer": "ipython3",
   "version": "3.8.11"
  }
 },
 "nbformat": 4,
 "nbformat_minor": 5
}
