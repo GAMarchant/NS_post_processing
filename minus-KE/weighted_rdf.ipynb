{
 "cells": [
  {
   "cell_type": "code",
   "execution_count": 1,
   "id": "02731360",
   "metadata": {},
   "outputs": [],
   "source": [
    "import numpy as np\n",
    "import math\n",
    "from mpmath import *\n",
    "import matplotlib.pyplot as plt\n"
   ]
  },
  {
   "cell_type": "code",
   "execution_count": 2,
   "id": "3d54733f",
   "metadata": {},
   "outputs": [
    {
     "name": "stdout",
     "output_type": "stream",
     "text": [
      "Mpmath settings:\n",
      "  mp.prec = 66442             [default: 53]\n",
      "  mp.dps = 20000              [default: 15]\n",
      "  mp.trap_complex = False     [default: False]\n",
      "4.0\n",
      "<class 'mpmath.ctx_mp_python.mpf'>\n"
     ]
    }
   ],
   "source": [
    "mp.dps = 20000 ; mp.pretty = False\n",
    "print(mp)\n",
    "w = mpf(4)\n",
    "print(w)\n",
    "print(type(w))"
   ]
  },
  {
   "cell_type": "code",
   "execution_count": 3,
   "id": "120d7464",
   "metadata": {},
   "outputs": [
    {
     "name": "stdout",
     "output_type": "stream",
     "text": [
      "8.617385e-05\n"
     ]
    }
   ],
   "source": [
    "n_point      = 1120\n",
    "#n_bin_rdf    =\n",
    "n_temp       = 100\n",
    "start_temp   = 1000\n",
    "delta_temp   = 10\n",
    "#kB           = 6.3336374823584e-6 # in Rydberg/K \n",
    "kB           = 8.617385e-5 #eV/K\n",
    "n_walkers    = 500\n",
    "print(kB)"
   ]
  },
  {
   "cell_type": "code",
   "execution_count": 4,
   "id": "46ee9ba1",
   "metadata": {},
   "outputs": [
    {
     "name": "stdout",
     "output_type": "stream",
     "text": [
      "[1000, 1010, 1020, 1030, 1040, 1050, 1060, 1070, 1080, 1090, 1100, 1110, 1120, 1130, 1140, 1150, 1160, 1170, 1180, 1190, 1200, 1210, 1220, 1230, 1240, 1250, 1260, 1270, 1280, 1290, 1300, 1310, 1320, 1330, 1340, 1350, 1360, 1370, 1380, 1390, 1400, 1410, 1420, 1430, 1440, 1450, 1460, 1470, 1480, 1490, 1500, 1510, 1520, 1530, 1540, 1550, 1560, 1570, 1580, 1590, 1600, 1610, 1620, 1630, 1640, 1650, 1660, 1670, 1680, 1690, 1700, 1710, 1720, 1730, 1740, 1750, 1760, 1770, 1780, 1790, 1800, 1810, 1820, 1830, 1840, 1850, 1860, 1870, 1880, 1890, 1900, 1910, 1920, 1930, 1940, 1950, 1960, 1970, 1980, 1990]\n"
     ]
    }
   ],
   "source": [
    "#Create list of temperature steps\n",
    "T = [start_temp]\n",
    "for x in range(1, n_temp) :\n",
    "    T.append(T[x-1] + delta_temp)\n",
    "    \n",
    "print(T)\n"
   ]
  },
  {
   "cell_type": "code",
   "execution_count": 5,
   "id": "0198d5c5",
   "metadata": {
    "scrolled": true
   },
   "outputs": [
    {
     "name": "stdout",
     "output_type": "stream",
     "text": [
      "[11.604448449268544, 11.489552920067865, 11.376910244380925, 11.26645480511509, 11.15812350891206, 11.051855665970042, 10.947592876668436, 10.84527892455004, 10.74485967524865, 10.646282980980315, 10.54949859024413, 10.454458062404093, 10.361114686846914, 10.26942340643234, 10.179340744972407, 10.090824738494385, 10.00383487005909, 9.918332007921832, 9.834278346837749, 9.751637352326506, 9.670373707723787, 9.5904532638583, 9.511842991203723, 9.434510934364669, 9.358426168764954, 9.283558759414834, 9.2098797216417, 9.137360983676018, 9.06597535099105, 8.995696472301196, 8.926498807129649, 8.858357594861483, 8.791248825203441, 8.725149209976347, 8.660036156170554, 8.595887740198922, 8.532682683285694, 8.470400327933243, 8.409020615411988, 8.348524064221975, 8.288891749477532, 8.23010528316918, 8.172146795259538, 8.114998915572407, 8.058644756436488, 8.003067896047272, 7.948252362512701, 7.894182618550031, 7.84084354680307, 7.788220435750701, 7.736298966179029, 7.685065198191089, 7.6345055587293045, 7.584606829587284, 7.535356135888664, 7.486740935011964, 7.438749005941373, 7.39136843902455, 7.344587626119331, 7.298395251112292, 7.252780280792839, 7.207731956067419, 7.1632397834991, 7.119293527158615, 7.075883200773501, 7.032999060162754, 6.9906315959449055, 6.94877152650811, 6.9074097912312755, 6.866537543945884, 6.826146146628554, 6.786227163314938, 6.7467723542258975, 6.707773670097424, 6.66922324670606, 6.631113399582024, 6.593436618902582, 6.556185564558499, 6.5193530613868225, 6.482932094563432, 6.4469158051491915, 6.4112974857837255, 6.376070576521178, 6.341228660802482, 6.306765461558991, 6.272674837442455, 6.238950779176636, 6.205587406025959, 6.1725789623768845, 6.139919814427801, 6.107604446983444, 6.075627460350022, 6.043983567327366, 6.012667590294582, 5.981674458385847, 5.950999204753098, 5.920636963912522, 5.89058296917185, 5.860832550135628, 5.831381130285701]\n"
     ]
    }
   ],
   "source": [
    "# Loop starts here for each traj file Could be called once for each loop \n",
    "# in qw scripts, probs best way\n",
    "beta = []\n",
    "for x in range(len(T)) :\n",
    "    beta.append(1.0 / (kB * T[x]))\n",
    "print(beta)"
   ]
  },
  {
   "cell_type": "raw",
   "id": "510a6c98",
   "metadata": {},
   "source": []
  },
  {
   "cell_type": "code",
   "execution_count": 6,
   "id": "787c23ee",
   "metadata": {},
   "outputs": [
    {
     "ename": "OSError",
     "evalue": "32Cu.ener_temp not found.",
     "output_type": "error",
     "traceback": [
      "\u001b[0;31m---------------------------------------------------------------------------\u001b[0m",
      "\u001b[0;31mOSError\u001b[0m                                   Traceback (most recent call last)",
      "\u001b[0;32m/tmp/ipykernel_42588/394052756.py\u001b[0m in \u001b[0;36m<module>\u001b[0;34m\u001b[0m\n\u001b[1;32m      5\u001b[0m \u001b[0;31m#Loop for files would be here!!! (Load in iterations, E and bins/rdf)\u001b[0m\u001b[0;34m\u001b[0m\u001b[0;34m\u001b[0m\u001b[0;34m\u001b[0m\u001b[0m\n\u001b[1;32m      6\u001b[0m \u001b[0;34m\u001b[0m\u001b[0m\n\u001b[0;32m----> 7\u001b[0;31m \u001b[0mE\u001b[0m \u001b[0;34m=\u001b[0m \u001b[0mnp\u001b[0m\u001b[0;34m.\u001b[0m\u001b[0mloadtxt\u001b[0m\u001b[0;34m(\u001b[0m\u001b[0mstr\u001b[0m\u001b[0;34m(\u001b[0m\u001b[0;34m'32Cu.ener_temp'\u001b[0m\u001b[0;34m)\u001b[0m\u001b[0;34m)\u001b[0m\u001b[0;34m\u001b[0m\u001b[0;34m\u001b[0m\u001b[0m\n\u001b[0m\u001b[1;32m      8\u001b[0m \u001b[0mprint\u001b[0m\u001b[0;34m(\u001b[0m\u001b[0mE\u001b[0m\u001b[0;34m)\u001b[0m\u001b[0;34m\u001b[0m\u001b[0;34m\u001b[0m\u001b[0m\n\u001b[1;32m      9\u001b[0m \u001b[0mE_min\u001b[0m \u001b[0;34m=\u001b[0m \u001b[0mnp\u001b[0m\u001b[0;34m.\u001b[0m\u001b[0mamin\u001b[0m\u001b[0;34m(\u001b[0m\u001b[0mE\u001b[0m\u001b[0;34m)\u001b[0m\u001b[0;34m\u001b[0m\u001b[0;34m\u001b[0m\u001b[0m\n",
      "\u001b[0;32m~/software/miniconda3/lib/python3.8/site-packages/numpy/lib/npyio.py\u001b[0m in \u001b[0;36mloadtxt\u001b[0;34m(fname, dtype, comments, delimiter, converters, skiprows, usecols, unpack, ndmin, encoding, max_rows, like)\u001b[0m\n\u001b[1;32m   1063\u001b[0m             \u001b[0mfname\u001b[0m \u001b[0;34m=\u001b[0m \u001b[0mos_fspath\u001b[0m\u001b[0;34m(\u001b[0m\u001b[0mfname\u001b[0m\u001b[0;34m)\u001b[0m\u001b[0;34m\u001b[0m\u001b[0;34m\u001b[0m\u001b[0m\n\u001b[1;32m   1064\u001b[0m         \u001b[0;32mif\u001b[0m \u001b[0m_is_string_like\u001b[0m\u001b[0;34m(\u001b[0m\u001b[0mfname\u001b[0m\u001b[0;34m)\u001b[0m\u001b[0;34m:\u001b[0m\u001b[0;34m\u001b[0m\u001b[0;34m\u001b[0m\u001b[0m\n\u001b[0;32m-> 1065\u001b[0;31m             \u001b[0mfh\u001b[0m \u001b[0;34m=\u001b[0m \u001b[0mnp\u001b[0m\u001b[0;34m.\u001b[0m\u001b[0mlib\u001b[0m\u001b[0;34m.\u001b[0m\u001b[0m_datasource\u001b[0m\u001b[0;34m.\u001b[0m\u001b[0mopen\u001b[0m\u001b[0;34m(\u001b[0m\u001b[0mfname\u001b[0m\u001b[0;34m,\u001b[0m \u001b[0;34m'rt'\u001b[0m\u001b[0;34m,\u001b[0m \u001b[0mencoding\u001b[0m\u001b[0;34m=\u001b[0m\u001b[0mencoding\u001b[0m\u001b[0;34m)\u001b[0m\u001b[0;34m\u001b[0m\u001b[0;34m\u001b[0m\u001b[0m\n\u001b[0m\u001b[1;32m   1066\u001b[0m             \u001b[0mfencoding\u001b[0m \u001b[0;34m=\u001b[0m \u001b[0mgetattr\u001b[0m\u001b[0;34m(\u001b[0m\u001b[0mfh\u001b[0m\u001b[0;34m,\u001b[0m \u001b[0;34m'encoding'\u001b[0m\u001b[0;34m,\u001b[0m \u001b[0;34m'latin1'\u001b[0m\u001b[0;34m)\u001b[0m\u001b[0;34m\u001b[0m\u001b[0;34m\u001b[0m\u001b[0m\n\u001b[1;32m   1067\u001b[0m             \u001b[0mfh\u001b[0m \u001b[0;34m=\u001b[0m \u001b[0miter\u001b[0m\u001b[0;34m(\u001b[0m\u001b[0mfh\u001b[0m\u001b[0;34m)\u001b[0m\u001b[0;34m\u001b[0m\u001b[0;34m\u001b[0m\u001b[0m\n",
      "\u001b[0;32m~/software/miniconda3/lib/python3.8/site-packages/numpy/lib/_datasource.py\u001b[0m in \u001b[0;36mopen\u001b[0;34m(path, mode, destpath, encoding, newline)\u001b[0m\n\u001b[1;32m    192\u001b[0m \u001b[0;34m\u001b[0m\u001b[0m\n\u001b[1;32m    193\u001b[0m     \u001b[0mds\u001b[0m \u001b[0;34m=\u001b[0m \u001b[0mDataSource\u001b[0m\u001b[0;34m(\u001b[0m\u001b[0mdestpath\u001b[0m\u001b[0;34m)\u001b[0m\u001b[0;34m\u001b[0m\u001b[0;34m\u001b[0m\u001b[0m\n\u001b[0;32m--> 194\u001b[0;31m     \u001b[0;32mreturn\u001b[0m \u001b[0mds\u001b[0m\u001b[0;34m.\u001b[0m\u001b[0mopen\u001b[0m\u001b[0;34m(\u001b[0m\u001b[0mpath\u001b[0m\u001b[0;34m,\u001b[0m \u001b[0mmode\u001b[0m\u001b[0;34m,\u001b[0m \u001b[0mencoding\u001b[0m\u001b[0;34m=\u001b[0m\u001b[0mencoding\u001b[0m\u001b[0;34m,\u001b[0m \u001b[0mnewline\u001b[0m\u001b[0;34m=\u001b[0m\u001b[0mnewline\u001b[0m\u001b[0;34m)\u001b[0m\u001b[0;34m\u001b[0m\u001b[0;34m\u001b[0m\u001b[0m\n\u001b[0m\u001b[1;32m    195\u001b[0m \u001b[0;34m\u001b[0m\u001b[0m\n\u001b[1;32m    196\u001b[0m \u001b[0;34m\u001b[0m\u001b[0m\n",
      "\u001b[0;32m~/software/miniconda3/lib/python3.8/site-packages/numpy/lib/_datasource.py\u001b[0m in \u001b[0;36mopen\u001b[0;34m(self, path, mode, encoding, newline)\u001b[0m\n\u001b[1;32m    529\u001b[0m                                       encoding=encoding, newline=newline)\n\u001b[1;32m    530\u001b[0m         \u001b[0;32melse\u001b[0m\u001b[0;34m:\u001b[0m\u001b[0;34m\u001b[0m\u001b[0;34m\u001b[0m\u001b[0m\n\u001b[0;32m--> 531\u001b[0;31m             \u001b[0;32mraise\u001b[0m \u001b[0mIOError\u001b[0m\u001b[0;34m(\u001b[0m\u001b[0;34m\"%s not found.\"\u001b[0m \u001b[0;34m%\u001b[0m \u001b[0mpath\u001b[0m\u001b[0;34m)\u001b[0m\u001b[0;34m\u001b[0m\u001b[0;34m\u001b[0m\u001b[0m\n\u001b[0m\u001b[1;32m    532\u001b[0m \u001b[0;34m\u001b[0m\u001b[0m\n\u001b[1;32m    533\u001b[0m \u001b[0;34m\u001b[0m\u001b[0m\n",
      "\u001b[0;31mOSError\u001b[0m: 32Cu.ener_temp not found."
     ]
    }
   ],
   "source": [
    "n_walkers=500\n",
    "z = np.zeros((n_temp))\n",
    "\n",
    "\n",
    "#Loop for files would be here!!! (Load in iterations, E and bins/rdf)\n",
    "\n",
    "E = np.loadtxt(str('32Cu.ener_temp'))\n",
    "print(E)\n",
    "E_min = np.amin(E)\n",
    "E = E + abs(E_min ) - 1\n",
    "print(np.amin(E), np.amax(E))\n",
    "print(E)\n",
    "iter = np.loadtxt(str('32Cu.iter_temp'))\n",
    "\n",
    "\n",
    "#for x in range(len(iter)):\n",
    "#        print(iter[x])\n",
    "#        w = ((iter[x]-1)*(math.log(n_walkers/(n_walkers+1)))) - ( iter[x] * math.log(n_walkers/(n_walkers +1))) \n",
    "#        print(w)\n",
    "\n",
    "bins = np.loadtxt(str('foo'), usecols=(0))\n",
    "rdf = np.loadtxt(str('allrdf.out'), usecols=(1))\n",
    "\n",
    "rdf = np.reshape(rdf, (len(iter),len(bins)))\n",
    "\n",
    "    \n",
    "\n",
    "\n",
    "sum_rdf = np.zeros((len(bins),n_temp))\n",
    "#Loop for files would be here!!! (Load in iterations, E and bins/rdf)\n",
    "log_w = 0\n",
    "#Start looping through each configuration\n",
    "z_sum = np.zeros(n_temp)\n",
    "z_array = np.zeros((len(iter),n_temp))\n",
    "z_array =  z_array - 50000\n",
    "\n",
    "\n",
    "z_sum =[]\n",
    "for x in range(n_temp):\n",
    "    z_sum.append(0)\n",
    "    \n",
    "for x in range(len(iter)) :\n",
    "    \n",
    "    log_w = (iter[x]*((math.log(n_walkers)-math.log(n_walkers+1)))) - math.log(n_walkers+1) \n",
    "\n",
    "    for y in range(n_temp):\n",
    "       \n",
    "        boltz_this = (-beta[y] * E[x])\n",
    "        z_array[x,y] = boltz_this +log_w   #?this could be right\n",
    "        #print(math.log(abs(boltz_this +log_w)))\n",
    "        #z_array[x,y] = math.log(abs(boltz_this + log_w))  switch\n",
    "\n",
    "        \n",
    "        \n",
    "\n",
    "for x in range(len(iter)) :\n",
    "    for y in range(n_temp):\n",
    "    \n",
    "        \n",
    "        z_term = math.exp(z_array[x,y] - np.amax(z_array[:,y])) #!!this could be right?    !removed mpf\n",
    "       # z_term =  mpf(-(math.exp(z_array[x,y] - np.amax(z_array[:,y])))) ##switch\n",
    "       # print(np.amax(z_array[:,y]))\n",
    "        #print(z_array[x,y])\n",
    "        #print(z_term)\n",
    "\n",
    "        z_sum[y] = z_sum[y] + z_term #removed mpf\n",
    "       # if x ==5 :\n",
    "        #    print (z_sum[y])\n",
    "        for k in range(len(bins)) :\n",
    "            sum_rdf[k,y] = sum_rdf[k,y] + rdf[x,k] * z_term\n",
    "            #print(sum_rdf[k,y])\n",
    "        \n",
    "\n",
    "print(sum_rdf[50,:])\n"
   ]
  },
  {
   "cell_type": "code",
   "execution_count": null,
   "id": "76d2e494",
   "metadata": {},
   "outputs": [],
   "source": [
    "print(z_sum)\n",
    "for y in range(len(bins)):\n",
    "        for x in range(n_temp) :\n",
    "            sum_rdf[y,x] = sum_rdf[y,x] / z_sum[x]\n",
    "   \n"
   ]
  },
  {
   "cell_type": "code",
   "execution_count": null,
   "id": "0f89635f",
   "metadata": {},
   "outputs": [],
   "source": []
  },
  {
   "cell_type": "code",
   "execution_count": null,
   "id": "0b6b7ee8",
   "metadata": {},
   "outputs": [],
   "source": [
    "print(sum_rdf[66,:])\n",
    "print(np.shape(sum_rdf))"
   ]
  },
  {
   "cell_type": "code",
   "execution_count": null,
   "id": "9097e8da",
   "metadata": {},
   "outputs": [],
   "source": [
    "plt.figure()\n",
    "plt.plot(bins[:],sum_rdf[:,60])\n",
    "plt.plot(bins[:],sum_rdf[:,1], 'o')\n",
    "\n",
    "print(sum_rdf[:,1])\n",
    "print(sum_rdf[:,60])\n"
   ]
  },
  {
   "cell_type": "code",
   "execution_count": null,
   "id": "e982d584",
   "metadata": {
    "scrolled": false
   },
   "outputs": [],
   "source": [
    "#for x in range(len(bins)):\n",
    "# ~   for y in range(n_temp):#      print(\n",
    "for x in range(len(bins)) :        \n",
    "    print(bins[x], sum_rdf[x,:])"
   ]
  },
  {
   "cell_type": "code",
   "execution_count": null,
   "id": "084ff7a9",
   "metadata": {},
   "outputs": [],
   "source": [
    "#h_weighted_rdf = open('weighted_rdf', 'w')\n",
    "#for x in range(len(bins)) :\n",
    "#    h_weighted_rdf.write(str(bins[x]) + ' ' + str(sum_rdf[x,:]))\n"
   ]
  },
  {
   "cell_type": "code",
   "execution_count": null,
   "id": "a2e93270",
   "metadata": {},
   "outputs": [],
   "source": [
    "sum_rdf = np.pad(sum_rdf, ((0,0),(1,0)), mode='constant', constant_values=0)\n",
    "for x in range(len(bins)) :\n",
    "    sum_rdf[x,0] = bins[x]\n",
    "print(np.shape(sum_rdf))\n",
    "np.savetxt('test.out', sum_rdf[:,:])"
   ]
  },
  {
   "cell_type": "code",
   "execution_count": null,
   "id": "9113600c",
   "metadata": {},
   "outputs": [],
   "source": [
    "print(bins)"
   ]
  },
  {
   "cell_type": "code",
   "execution_count": null,
   "id": "bfcf5ee4",
   "metadata": {},
   "outputs": [],
   "source": []
  }
 ],
 "metadata": {
  "kernelspec": {
   "display_name": "Python 3 (ipykernel)",
   "language": "python",
   "name": "python3"
  },
  "language_info": {
   "codemirror_mode": {
    "name": "ipython",
    "version": 3
   },
   "file_extension": ".py",
   "mimetype": "text/x-python",
   "name": "python",
   "nbconvert_exporter": "python",
   "pygments_lexer": "ipython3",
   "version": "3.8.11"
  }
 },
 "nbformat": 4,
 "nbformat_minor": 5
}
